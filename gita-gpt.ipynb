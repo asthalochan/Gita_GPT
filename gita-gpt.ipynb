{
 "cells": [
  {
   "cell_type": "code",
   "execution_count": 1,
   "id": "1cfbe00f-e210-4ab2-9e62-34fcce89f421",
   "metadata": {},
   "outputs": [],
   "source": [
    " ! pip -q install pinecone-client huggingface_hub langchain langchain_community google.generativeai pypdf"
   ]
  },
  {
   "cell_type": "code",
   "execution_count": 2,
   "id": "258fb95c-5d16-4689-bab5-e9bfe280396b",
   "metadata": {},
   "outputs": [],
   "source": [
    "from langchain.document_loaders import PyPDFLoader, DirectoryLoader,PyPDFDirectoryLoader\n",
    "from langchain.text_splitter import RecursiveCharacterTextSplitter\n",
    "from langchain.embeddings import HuggingFaceEmbeddings\n",
    "from langchain.chains import RetrievalQA\n",
    "from langchain.prompts import PromptTemplate\n",
    "from pinecone import Pinecone,ServerlessSpec\n",
    "from langchain_community.llms import HuggingFaceHub\n",
    "from langchain_community.vectorstores import Pinecone\n",
    "import pinecone\n",
    "from pinecone import Pinecone as PineconeClient\n",
    "from langchain.vectorstores import Pinecone\n",
    "from dotenv import load_dotenv\n",
    "import os\n",
    "import google.generativeai as genai\n",
    "from langchain_google_genai import GoogleGenerativeAIEmbeddings,ChatGoogleGenerativeAI"
   ]
  },
  {
   "cell_type": "code",
   "execution_count": 4,
   "id": "f3715c2e-50f9-40c8-90d7-3bfb6d91069f",
   "metadata": {},
   "outputs": [],
   "source": [
    "huggingfacehub_api_token=os.getenv(\"huggingfacehub_api_token\")"
   ]
  },
  {
   "cell_type": "code",
   "execution_count": 5,
   "id": "d229dc95-320b-44c7-8bde-f3b05dc0349f",
   "metadata": {},
   "outputs": [],
   "source": [
    "PINECONE_API_KEY = os.environ[\"PINECONE_API_KEY\"]\n",
    "PINECONE_ENVIRONMENT = os.environ[\"PINECONE_ENVIRONMENT\"]\n",
    "PINECONE_INDEX_NAME = os.environ[\"PINECONE_INDEX_NAME\"]"
   ]
  },
  {
   "cell_type": "code",
   "execution_count": 6,
   "id": "0158e695-4791-4296-845e-6eb969b88f7d",
   "metadata": {},
   "outputs": [],
   "source": [
    "# Init\n",
    "pinecone = PineconeClient(api_key=PINECONE_API_KEY,\n",
    "                         environment=PINECONE_ENVIRONMENT)\n",
    "index_name=PINECONE_INDEX_NAME\n",
    "\n",
    "# embeddings = CohereEmbeddings(model=\"multilingual-22-12\")\n",
    "vectorstore = Pinecone.from_existing_index(index_name=PINECONE_INDEX_NAME, embedding=embeddings)\n",
    "retriever = vectorstore.as_retriever()"
   ]
  },
  {
   "cell_type": "code",
   "execution_count": 7,
   "id": "daac9a01-3cbe-4899-b1fb-903c8d40a128",
   "metadata": {},
   "outputs": [],
   "source": [
    "loader = PyPDFDirectoryLoader(\"D:\\Gita_GPT\\data\")\n",
    "data = loader.load()"
   ]
  },
  {
   "cell_type": "code",
   "execution_count": 8,
   "id": "615a8da8-0a37-41bd-aa6e-364210a0424a",
   "metadata": {},
   "outputs": [],
   "source": [
    "text_splitter = RecursiveCharacterTextSplitter(chunk_size=1000, chunk_overlap=20)\n",
    "\n",
    "text_chunks = text_splitter.split_documents(data)"
   ]
  },
  {
   "cell_type": "code",
   "execution_count": 9,
   "id": "b8ea3aa3-62b8-4e13-9e8c-49938f098202",
   "metadata": {},
   "outputs": [],
   "source": [
    "#download embedding model\n",
    "def download_hugging_face_embeddings():\n",
    "    embeddings = HuggingFaceEmbeddings(model_name=\"sentence-transformers/all-MiniLM-L6-v2\")\n",
    "    return embeddings\n",
    "embeddings = download_hugging_face_embeddings()"
   ]
  },
  {
   "cell_type": "code",
   "execution_count": 10,
   "id": "b4b4059a-568e-45a4-bea1-6a4ff76f5713",
   "metadata": {},
   "outputs": [],
   "source": [
    "len(text_chunks)"
   ]
  },
  {
   "cell_type": "code",
   "execution_count": 12,
   "id": "e949572e-63a8-4cfa-8984-35f92a356030",
   "metadata": {},
   "outputs": [],
   "source": [
    "docsearch=Pinecone.from_documents(text_chunks,embeddings,index_name=index_name)"
   ]
  },
  {
   "cell_type": "code",
   "execution_count": 13,
   "id": "4a4160cf-9fb7-4d97-bec1-54b1e8a9191c",
   "metadata": {},
   "outputs": [],
   "source": [
    "docsearch=Pinecone.from_existing_index(index_name, embeddings)"
   ]
  },
  {
   "cell_type": "code",
   "execution_count": 15,
   "id": "c05419cf-8ec2-478d-8092-157a5f7e69e6",
   "metadata": {},
   "outputs": [],
   "source": [
    "prompt_template=\"\"\"\n",
    "Use the following pieces of information to answer the user's devote question.\n",
    "dont write in the context, from the context\n",
    "and provide the complete sentences of answer. \n",
    "\n",
    "Context: {context}\n",
    "Question: {question}\n",
    "\n",
    "\n",
    "Answer:\n",
    "\"\"\""
   ]
  },
  {
   "cell_type": "code",
   "execution_count": 16,
   "id": "7fdb27cb-c755-4af5-8dd9-4e548ada8108",
   "metadata": {},
   "outputs": [],
   "source": [
    "PROMPT=PromptTemplate(template=prompt_template, input_variables=[\"context\", \"question\"])\n",
    "chain_type_kwargs={\"prompt\": PROMPT}"
   ]
  },
  {
   "cell_type": "code",
   "execution_count": 18,
   "id": "ced5786c-3bcb-4347-a63f-d8544e200968",
   "metadata": {},
   "outputs": [],
   "source": [
    "llm = HuggingFaceHub(repo_id='mistralai/Mistral-7B-Instruct-v0.2',model_kwargs={\"temperature\":0.1}, huggingfacehub_api_token=huggingfacehub_api_token)"
   ]
  },
  {
   "cell_type": "code",
   "execution_count": 19,
   "id": "abf28b45-0119-4af0-b163-9a582ea6b116",
   "metadata": {},
   "outputs": [],
   "source": [
    "qa=RetrievalQA.from_chain_type(\n",
    "    llm=llm, \n",
    "    chain_type=\"stuff\", \n",
    "    retriever=docsearch.as_retriever(search_kwargs={'k': 3}),\n",
    "    return_source_documents=True, \n",
    "    chain_type_kwargs=chain_type_kwargs)"
   ]
  },
  {
   "cell_type": "code",
   "execution_count": 20,
   "id": "427e63ad-44cf-4a62-9502-b45cfa18ad9b",
   "metadata": {},
   "outputs": [],
   "source": [
    "def answer_format(text):\n",
    "    start_index = text.find(\"Answer:\")\n",
    "    if start_index == -1:\n",
    "        return None\n",
    "    return text[start_index:].strip()\n"
   ]
  },
  {
   "cell_type": "code",
   "execution_count": 21,
   "id": "b72a3e20-9607-410a-944e-c0d434e4a5ab",
   "metadata": {},
   "outputs": [
    {
     "name": "stdout",
     "output_type": "stream",
     "text": [
      "Question:  what is karma ?\n"
     ]
    },
    {
     "name": "stderr",
     "output_type": "stream",
     "text": [
      "C:\\Users\\mohan\\AppData\\Roaming\\Python\\Python310\\site-packages\\langchain_core\\_api\\deprecation.py:117: LangChainDeprecationWarning: The function `__call__` was deprecated in LangChain 0.1.0 and will be removed in 0.2.0. Use invoke instead.\n",
      "  warn_deprecated(\n"
     ]
    },
    {
     "name": "stdout",
     "output_type": "stream",
     "text": [
      "Answer:\n",
      "Karma refers to the activities or actions that are carried out under the control and purview of eternal time. These activities, which have been ongoing from time immemorial, result in suffering or enjoyment for the living entity. For instance, a businessman who works hard and amasses a great bank balance is an enjoyer, but if he loses all his money, he becomes a sufferer. Similarly, every field of life brings results of our work, and this is called\n",
      "\n",
      "------------------------------------------------------------------------------\n"
     ]
    },
    {
     "name": "stdout",
     "output_type": "stream",
     "text": [
      "Question:  which is the truth of universe ?\n"
     ]
    },
    {
     "name": "stdout",
     "output_type": "stream",
     "text": [
      "Answer:\n",
      "The truth of the universe is that it is illuminated by the Supreme Brahman, and this great effulgence belongs to Lord Krishna. The proposal that matter alone is the source of life is less intelligent. The entire cosmic manifestation of the universe is developed due to the presence of the Supersoul, Viṣṇu. Spirit and matter, which combine together to manifest this gigantic universal form, are originally two energies of the Lord. The living entity, a\n",
      "\n",
      "------------------------------------------------------------------------------\n"
     ]
    },
    {
     "name": "stdout",
     "output_type": "stream",
     "text": [
      "Question:  tell me about sacrifice ?\n"
     ]
    },
    {
     "name": "stdout",
     "output_type": "stream",
     "text": [
      "Answer:\n",
      "In the Bhagavad Gita, Chapter 4, Verse 12, it is stated that whatever you offer in sacrifice, whatever you give in charity, and whatever penances you undertake, should be done as an offering unto Me. Sacrifices that are performed with this mindset, according to Vedic injunctions, and without any desire for personal gain, are considered to be in the mode of goodness.\n",
      "\n",
      "------------------------------------------------------------------------------\n"
     ]
    },
    {
     "name": "stdout",
     "output_type": "stream",
     "text": [
      "Question:  who is krishna ?\n"
     ]
    },
    {
     "name": "stdout",
     "output_type": "stream",
     "text": [
      "Answer:\n",
      "Krishna is a central figure in Hinduism and is considered the eighth avatar, or manifestation, of the god Vishnu. He is known for his role in the Mahabharata epic and the Bhagavad Gita. The Bhagavad-gītā As It Is is a translation and commentary on this ancient Indian scripture by His Divine Grace A.C. Bhaktivedanta Swami Prabhupada. The\n",
      "\n",
      "------------------------------------------------------------------------------\n"
     ]
    },
    {
     "name": "stdout",
     "output_type": "stream",
     "text": [
      "Question:  who is almighty ?\n"
     ]
    },
    {
     "name": "stdout",
     "output_type": "stream",
     "text": [
      "Answer:\n",
      "The Supreme Lord, as described in the Vedic literature, is the almighty being. He is the origin of all living entities and the rest of all. He is the maintainer of every living entity and devours everything at the time of annihilation. He is also the annihilator and the killer of all. In the form of time, He devours all. He is the unborn, beginningless, and the Supreme Master of all the worlds. Anyone\n",
      "\n",
      "------------------------------------------------------------------------------\n"
     ]
    },
    {
     "name": "stdout",
     "output_type": "stream",
     "text": [
      "Question:  tell about the kali ?\n"
     ]
    },
    {
     "name": "stdout",
     "output_type": "stream",
     "text": [
      "Answer:\n",
      "Kali-yuga is the current age of the cosmic time cycle, which according to the ancient Vedic treatise on astronomy, the Sürya-siddhånta, began in 3102 BCE. This age is known as the age of quarrel and hypocrisy, and virtuous qualities are reduced to 25%. During this age, sensual pleasure (Kåma) is prevalent, and the yogic\n",
      "\n",
      "------------------------------------------------------------------------------\n"
     ]
    },
    {
     "name": "stdout",
     "output_type": "stream",
     "text": [
      "Question:  how to believe in god ?\n"
     ]
    },
    {
     "name": "stdout",
     "output_type": "stream",
     "text": [
      "Answer:\n",
      "To believe in God, one must have faith in something that is productive of good works. However, in material conditional life, no works of material nature are completely purified. They are mixed and not in pure goodness. Pure goodness is transcendental, and in purified goodness, one can understand the real nature of the Supreme Personality of Godhead. As long as one's faith is not completely in purified goodness, it is subject to contamination by any of the modes\n",
      "\n",
      "------------------------------------------------------------------------------\n"
     ]
    },
    {
     "ename": "KeyboardInterrupt",
     "evalue": "Interrupted by user",
     "output_type": "error",
     "traceback": [
      "\u001b[1;31m---------------------------------------------------------------------------\u001b[0m",
      "\u001b[1;31mKeyboardInterrupt\u001b[0m                         Traceback (most recent call last)",
      "Cell \u001b[1;32mIn[21], line 2\u001b[0m\n\u001b[0;32m      1\u001b[0m \u001b[38;5;28;01mwhile\u001b[39;00m \u001b[38;5;28;01mTrue\u001b[39;00m:\n\u001b[1;32m----> 2\u001b[0m   user_input\u001b[38;5;241m=\u001b[39m\u001b[38;5;28;43minput\u001b[39;49m\u001b[43m(\u001b[49m\u001b[38;5;124;43mf\u001b[39;49m\u001b[38;5;124;43m\"\u001b[39;49m\u001b[38;5;124;43mQuestion: \u001b[39;49m\u001b[38;5;124;43m\"\u001b[39;49m\u001b[43m)\u001b[49m\n\u001b[0;32m      4\u001b[0m   result\u001b[38;5;241m=\u001b[39mqa({\u001b[38;5;124m\"\u001b[39m\u001b[38;5;124mquery\u001b[39m\u001b[38;5;124m\"\u001b[39m: user_input})\n\u001b[0;32m      5\u001b[0m   result_text \u001b[38;5;241m=\u001b[39m result[\u001b[38;5;124m\"\u001b[39m\u001b[38;5;124mresult\u001b[39m\u001b[38;5;124m\"\u001b[39m]\n",
      "File \u001b[1;32mC:\\Program Files\\Python310\\lib\\site-packages\\ipykernel\\kernelbase.py:1202\u001b[0m, in \u001b[0;36mKernel.raw_input\u001b[1;34m(self, prompt)\u001b[0m\n\u001b[0;32m   1200\u001b[0m     msg \u001b[38;5;241m=\u001b[39m \u001b[38;5;124m\"\u001b[39m\u001b[38;5;124mraw_input was called, but this frontend does not support input requests.\u001b[39m\u001b[38;5;124m\"\u001b[39m\n\u001b[0;32m   1201\u001b[0m     \u001b[38;5;28;01mraise\u001b[39;00m StdinNotImplementedError(msg)\n\u001b[1;32m-> 1202\u001b[0m \u001b[38;5;28;01mreturn\u001b[39;00m \u001b[38;5;28;43mself\u001b[39;49m\u001b[38;5;241;43m.\u001b[39;49m\u001b[43m_input_request\u001b[49m\u001b[43m(\u001b[49m\n\u001b[0;32m   1203\u001b[0m \u001b[43m    \u001b[49m\u001b[38;5;28;43mstr\u001b[39;49m\u001b[43m(\u001b[49m\u001b[43mprompt\u001b[49m\u001b[43m)\u001b[49m\u001b[43m,\u001b[49m\n\u001b[0;32m   1204\u001b[0m \u001b[43m    \u001b[49m\u001b[38;5;28;43mself\u001b[39;49m\u001b[38;5;241;43m.\u001b[39;49m\u001b[43m_parent_ident\u001b[49m\u001b[43m[\u001b[49m\u001b[38;5;124;43m\"\u001b[39;49m\u001b[38;5;124;43mshell\u001b[39;49m\u001b[38;5;124;43m\"\u001b[39;49m\u001b[43m]\u001b[49m\u001b[43m,\u001b[49m\n\u001b[0;32m   1205\u001b[0m \u001b[43m    \u001b[49m\u001b[38;5;28;43mself\u001b[39;49m\u001b[38;5;241;43m.\u001b[39;49m\u001b[43mget_parent\u001b[49m\u001b[43m(\u001b[49m\u001b[38;5;124;43m\"\u001b[39;49m\u001b[38;5;124;43mshell\u001b[39;49m\u001b[38;5;124;43m\"\u001b[39;49m\u001b[43m)\u001b[49m\u001b[43m,\u001b[49m\n\u001b[0;32m   1206\u001b[0m \u001b[43m    \u001b[49m\u001b[43mpassword\u001b[49m\u001b[38;5;241;43m=\u001b[39;49m\u001b[38;5;28;43;01mFalse\u001b[39;49;00m\u001b[43m,\u001b[49m\n\u001b[0;32m   1207\u001b[0m \u001b[43m\u001b[49m\u001b[43m)\u001b[49m\n",
      "File \u001b[1;32mC:\\Program Files\\Python310\\lib\\site-packages\\ipykernel\\kernelbase.py:1245\u001b[0m, in \u001b[0;36mKernel._input_request\u001b[1;34m(self, prompt, ident, parent, password)\u001b[0m\n\u001b[0;32m   1242\u001b[0m \u001b[38;5;28;01mexcept\u001b[39;00m \u001b[38;5;167;01mKeyboardInterrupt\u001b[39;00m:\n\u001b[0;32m   1243\u001b[0m     \u001b[38;5;66;03m# re-raise KeyboardInterrupt, to truncate traceback\u001b[39;00m\n\u001b[0;32m   1244\u001b[0m     msg \u001b[38;5;241m=\u001b[39m \u001b[38;5;124m\"\u001b[39m\u001b[38;5;124mInterrupted by user\u001b[39m\u001b[38;5;124m\"\u001b[39m\n\u001b[1;32m-> 1245\u001b[0m     \u001b[38;5;28;01mraise\u001b[39;00m \u001b[38;5;167;01mKeyboardInterrupt\u001b[39;00m(msg) \u001b[38;5;28;01mfrom\u001b[39;00m \u001b[38;5;28;01mNone\u001b[39;00m\n\u001b[0;32m   1246\u001b[0m \u001b[38;5;28;01mexcept\u001b[39;00m \u001b[38;5;167;01mException\u001b[39;00m:\n\u001b[0;32m   1247\u001b[0m     \u001b[38;5;28mself\u001b[39m\u001b[38;5;241m.\u001b[39mlog\u001b[38;5;241m.\u001b[39mwarning(\u001b[38;5;124m\"\u001b[39m\u001b[38;5;124mInvalid Message:\u001b[39m\u001b[38;5;124m\"\u001b[39m, exc_info\u001b[38;5;241m=\u001b[39m\u001b[38;5;28;01mTrue\u001b[39;00m)\n",
      "\u001b[1;31mKeyboardInterrupt\u001b[0m: Interrupted by user"
     ]
    }
   ],
   "source": [
    "while True:\n",
    "  user_input=input(f\"Question: \")\n",
    "\n",
    "  result=qa({\"query\": user_input})\n",
    "  result_text = result[\"result\"]\n",
    "  answer = answer_format(result_text)\n",
    "  print(answer)\n",
    "  print()\n",
    "  print(\"------------------------------------------------------------------------------\")"
   ]
  },
  {
   "cell_type": "code",
   "execution_count": null,
   "id": "15c9066e-6e99-4528-af1e-aaf998ab7910",
   "metadata": {},
   "outputs": [],
   "source": []
  }
 ],
 "metadata": {
  "kernelspec": {
   "display_name": "Python 3 (ipykernel)",
   "language": "python",
   "name": "python3"
  },
  "language_info": {
   "codemirror_mode": {
    "name": "ipython",
    "version": 3
   },
   "file_extension": ".py",
   "mimetype": "text/x-python",
   "name": "python",
   "nbconvert_exporter": "python",
   "pygments_lexer": "ipython3",
   "version": "3.10.11"
  }
 },
 "nbformat": 4,
 "nbformat_minor": 5
}
